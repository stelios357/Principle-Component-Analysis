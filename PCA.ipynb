{
 "cells": [
  {
   "cell_type": "markdown",
   "metadata": {},
   "source": [
    "<h1 align=\"center\">Principal Component Analysis (PCA)</h1>\n",
    "<hr>"
   ]
  },
  {
   "cell_type": "markdown",
   "metadata": {},
   "source": [
    "# Links\n",
    "#### [3Blue1Brown Linear Algebra Video Playlist](https://www.youtube.com/playlist?list=PLZHQObOWTQDPD3MizzM2xVFitgF8hE_ab)\n",
    "#### [Setosa EigenVectors and EigenValues](http://setosa.io/ev/eigenvectors-and-eigenvalues/)\n",
    "#### [Setosa PCA](http://setosa.io/ev/principal-component-analysis/)\n",
    "#### [PCA Overview](https://towardsdatascience.com/a-one-stop-shop-for-principal-component-analysis-5582fb7e0a9c)\n",
    "#### [PCA -- Sebastian Raschka](http://sebastianraschka.com/Articles/2015_pca_in_3_steps.html)"
   ]
  },
  {
   "cell_type": "code",
   "execution_count": 1,
   "metadata": {},
   "outputs": [],
   "source": [
    "import numpy as np\n",
    "import matplotlib.pyplot as plt\n",
    "import pandas as pd"
   ]
  },
  {
   "cell_type": "code",
   "execution_count": 2,
   "metadata": {},
   "outputs": [],
   "source": [
    "ds = pd.read_csv('/Users/Pratulya/Desktop/machine-learning/bootcamp/mnist_data/train.csv')"
   ]
  },
  {
   "cell_type": "code",
   "execution_count": 3,
   "metadata": {},
   "outputs": [
    {
     "name": "stdout",
     "output_type": "stream",
     "text": [
      "(42000, 784)\n",
      "(42000,)\n"
     ]
    }
   ],
   "source": [
    "X = ds.values[:, 1:]\n",
    "labels = ds.values[:, 0]\n",
    "print(X.shape)\n",
    "print(labels.shape)"
   ]
  },
  {
   "cell_type": "code",
   "execution_count": 5,
   "metadata": {},
   "outputs": [
    {
     "name": "stdout",
     "output_type": "stream",
     "text": [
      "(42000, 784)\n",
      "(784,)\n"
     ]
    }
   ],
   "source": [
    "X_std = (X - X.mean(axis=0)) / (X.std(axis=0) + 1e-03) # Standardizing the data\n",
    "print(X_std.shape)\n",
    "\n",
    "mean = np.mean(X_std, axis=0)\n",
    "print(mean.shape)"
   ]
  },
  {
   "cell_type": "code",
   "execution_count": 8,
   "metadata": {},
   "outputs": [
    {
     "name": "stdout",
     "output_type": "stream",
     "text": [
      "(784, 784)\n"
     ]
    }
   ],
   "source": [
    "cov = np.cov(X_std, rowvar=False)\n",
    "print(cov.shape)"
   ]
  },
  {
   "cell_type": "code",
   "execution_count": 9,
   "metadata": {},
   "outputs": [
    {
     "data": {
      "text/plain": [
       "array([[0.99998378, 0.76790152, 0.40754608, ..., 0.        , 0.        ,\n",
       "        0.        ],\n",
       "       [0.76790152, 0.99998142, 0.76059196, ..., 0.        , 0.        ,\n",
       "        0.        ],\n",
       "       [0.40754608, 0.76059196, 0.99997677, ..., 0.        , 0.        ,\n",
       "        0.        ],\n",
       "       ...,\n",
       "       [0.        , 0.        , 0.        , ..., 0.        , 0.        ,\n",
       "        0.        ],\n",
       "       [0.        , 0.        , 0.        , ..., 0.        , 0.        ,\n",
       "        0.        ],\n",
       "       [0.        , 0.        , 0.        , ..., 0.        , 0.        ,\n",
       "        0.        ]])"
      ]
     },
     "execution_count": 9,
     "metadata": {},
     "output_type": "execute_result"
    }
   ],
   "source": [
    "cov[100:,100:]"
   ]
  },
  {
   "cell_type": "code",
   "execution_count": 10,
   "metadata": {},
   "outputs": [
    {
     "name": "stdout",
     "output_type": "stream",
     "text": [
      "[ 5.33329994e-17 -6.09036631e-18 -3.11708331e-17  5.33752936e-17\n",
      "  6.55560262e-18 -1.08696121e-17  4.77924578e-17  6.63173220e-17\n",
      " -1.52259158e-17  1.87786294e-17]\n",
      "[[0.99999858 0.76557687 0.40881585 0.14582154 0.02857417]\n",
      " [0.76557687 1.00000165 0.76155178 0.39940025 0.15539897]\n",
      " [0.40881585 0.76155178 1.00000308 0.75886348 0.41042703]\n",
      " [0.14582154 0.39940025 0.75886348 1.00000383 0.76714196]\n",
      " [0.02857417 0.15539897 0.41042703 0.76714196 1.00000435]]\n"
     ]
    }
   ],
   "source": [
    "print(mean[400:410])\n",
    "print(cov[510:515, 510:515])"
   ]
  },
  {
   "cell_type": "code",
   "execution_count": 13,
   "metadata": {},
   "outputs": [
    {
     "name": "stdout",
     "output_type": "stream",
     "text": [
      "(784,) (784, 784)\n",
      "[40.69537351 29.11041321 26.7824754  20.81403518 18.09952427 15.78714241\n",
      " 13.82359513 12.54272145 11.0633458  10.08842803] [[0. 0. 0. ... 0. 0. 0.]\n",
      " [0. 0. 0. ... 0. 0. 0.]\n",
      " [0. 0. 0. ... 0. 0. 0.]\n",
      " [0. 0. 0. ... 0. 0. 0.]\n",
      " [0. 0. 0. ... 0. 0. 0.]]\n"
     ]
    }
   ],
   "source": [
    "eigen = np.linalg.eig(cov)\n",
    "eigen_values, eigen_vectors = eigen\n",
    "# print(eigen[0])\n",
    "print(eigen_values.shape, eigen_vectors.shape)\n",
    "print(eigen_values[:10], eigen_vectors[:5])"
   ]
  },
  {
   "cell_type": "code",
   "execution_count": 12,
   "metadata": {},
   "outputs": [
    {
     "data": {
      "image/png": "[encoded data removed]",
      "text/plain": [
       "<Figure size 432x288 with 1 Axes>"
      ]
     },
     "metadata": {
      "needs_background": "light"
     },
     "output_type": "display_data"
    }
   ],
   "source": [
    "plt.figure()\n",
    "plt.plot(eigen_values)\n",
    "plt.show()"
   ]
  },
  {
   "cell_type": "code",
   "execution_count": 14,
   "metadata": {},
   "outputs": [
    {
     "data": {
      "image/png": "[encoded data removed]",
      "text/plain": [
       "<Figure size 432x288 with 1 Axes>"
      ]
     },
     "metadata": {
      "needs_background": "light"
     },
     "output_type": "display_data"
    }
   ],
   "source": [
    "plt.figure()\n",
    "plt.plot(sorted(eigen_values, reverse=True))\n",
    "plt.show()"
   ]
  },
  {
   "cell_type": "code",
   "execution_count": 20,
   "metadata": {},
   "outputs": [
    {
     "data": {
      "text/plain": [
       "[40.695373510677456,\n",
       " 29.11041320994042,\n",
       " 26.782475402618086,\n",
       " 20.814035180517923,\n",
       " 18.099524269009116,\n",
       " 15.787142408885547,\n",
       " 13.823595131453427,\n",
       " 12.54272144959714,\n",
       " 11.063345799114199,\n",
       " 10.088428029637273,\n",
       " 9.635671525398434,\n",
       " 8.65503342142047,\n",
       " 8.040638133373745,\n",
       " 7.880458529941805,\n",
       " 7.435782842205296,\n",
       " 7.166919444903985,\n",
       " 6.734663462044155,\n",
       " 6.616017964166304,\n",
       " 6.422852968540045,\n",
       " 6.267534335694192]"
      ]
     },
     "execution_count": 20,
     "metadata": {},
     "output_type": "execute_result"
    }
   ],
   "source": [
    "sorted(eigen_values[:20], reverse=True)"
   ]
  },
  {
   "cell_type": "code",
   "execution_count": 15,
   "metadata": {},
   "outputs": [
    {
     "data": {
      "text/plain": [
       "array([ 0.00000000e+00,  0.00000000e+00,  0.00000000e+00,  0.00000000e+00,\n",
       "        0.00000000e+00,  0.00000000e+00,  0.00000000e+00,  0.00000000e+00,\n",
       "        0.00000000e+00,  0.00000000e+00,  0.00000000e+00,  0.00000000e+00,\n",
       "       -2.55166586e-01,  3.33333430e-01,  5.28214964e-01, -7.38080522e-01,\n",
       "        0.00000000e+00,  0.00000000e+00,  0.00000000e+00,  0.00000000e+00,\n",
       "        0.00000000e+00,  0.00000000e+00,  0.00000000e+00,  0.00000000e+00,\n",
       "        0.00000000e+00,  0.00000000e+00,  0.00000000e+00,  0.00000000e+00,\n",
       "        0.00000000e+00,  0.00000000e+00,  0.00000000e+00,  0.00000000e+00,\n",
       "       -1.62266626e-15,  1.17330226e-15,  7.74919488e-17, -3.18398569e-18,\n",
       "       -7.28955542e-16,  6.63708467e-16, -2.62051348e-15,  4.26884707e-15,\n",
       "       -6.65561021e-15,  9.62251895e-15, -1.33104322e-14,  5.78391707e-15,\n",
       "       -2.73002205e-15,  1.43478363e-15, -7.68297824e-16,  4.97603854e-16,\n",
       "       -3.95170815e-16,  4.05182363e-16, -1.97140353e-16,  3.24661919e-17,\n",
       "        0.00000000e+00,  0.00000000e+00,  0.00000000e+00,  0.00000000e+00,\n",
       "        0.00000000e+00,  0.00000000e+00,  1.51358742e-14, -6.44713873e-17,\n",
       "        1.97268585e-17,  7.43395169e-17,  1.40418356e-16,  5.21113080e-17,\n",
       "        5.70152171e-16, -1.45836993e-15,  2.93325214e-15, -3.98278106e-15,\n",
       "        3.51789520e-15, -2.52205278e-15,  3.97190716e-15, -2.30506920e-15,\n",
       "        2.97889008e-15, -2.57122189e-15,  1.22814222e-15, -3.20225102e-17,\n",
       "       -7.97684702e-16,  6.62082892e-17,  1.34253453e-16, -3.93289576e-16,\n",
       "        1.42092701e-16, -1.24383272e-16,  0.00000000e+00,  0.00000000e+00,\n",
       "        0.00000000e+00,  0.00000000e+00, -1.50501424e-14, -6.44357406e-17,\n",
       "       -2.03096026e-16,  3.86554611e-16, -1.23587207e-15, -1.20273177e-16,\n",
       "        1.25591515e-15, -4.77771503e-16, -2.73534581e-15,  4.83919686e-15,\n",
       "       -3.54533286e-15,  1.27897881e-15, -8.16566084e-16,  1.88771995e-16,\n",
       "       -1.09427805e-15,  3.06231607e-15, -3.70527692e-15,  2.70881382e-15,\n",
       "       -2.12985783e-15,  2.22865241e-15, -9.37078160e-16,  6.01087506e-16,\n",
       "       -1.67350593e-16,  3.61064277e-16,  1.74411778e-16,  0.00000000e+00,\n",
       "        0.00000000e+00, -1.00889185e-17,  5.83163459e-16,  2.55731626e-16,\n",
       "       -9.81581503e-16,  1.93367877e-15, -1.50986744e-15,  3.79400115e-15,\n",
       "       -6.14366649e-15,  7.65380929e-15, -3.95833753e-15,  1.29224412e-15,\n",
       "       -4.21785515e-15,  6.95192041e-15, -6.76683490e-15,  4.45526321e-15,\n",
       "       -3.01242072e-15,  2.60211098e-15, -1.10328380e-15, -3.41218181e-16,\n",
       "        6.83658972e-16, -7.99182871e-17, -6.72963641e-16, -9.57602486e-17,\n",
       "        3.82311770e-17, -9.42203907e-17, -6.53781333e-17,  0.00000000e+00,\n",
       "        0.00000000e+00,  0.00000000e+00,  1.72801024e-17, -3.47579144e-16,\n",
       "        1.90397663e-15, -2.53641054e-15, -2.12313763e-16,  2.94142952e-16,\n",
       "       -2.82719520e-15,  1.95006579e-15, -3.03516951e-15,  4.71290350e-15,\n",
       "       -2.93996372e-15, -1.79164163e-18,  1.02074079e-15,  1.75632294e-16,\n",
       "       -7.67677720e-16, -8.99849239e-16,  1.54699262e-15,  1.90709748e-15,\n",
       "       -3.14045601e-15, -1.68807602e-16,  3.46631452e-15, -2.05610544e-15,\n",
       "       -2.14035270e-16,  9.31833211e-17,  4.12757711e-17, -1.13917948e-17,\n",
       "        0.00000000e+00,  1.99228756e-16,  1.19610938e-16,  7.15222344e-16,\n",
       "       -3.37186467e-15,  4.19834253e-15, -1.03121867e-15,  1.90604995e-15,\n",
       "        1.23786933e-15,  1.94688488e-15, -1.98867818e-15, -8.41710681e-16,\n",
       "        3.18057666e-15, -4.80605088e-15,  1.25839269e-15, -4.67866001e-17,\n",
       "       -6.60182696e-17, -9.39388940e-16,  5.02344689e-15, -1.02285034e-14,\n",
       "        6.26183938e-15,  1.12272476e-15, -5.39630071e-15,  2.90852772e-15,\n",
       "        6.52216614e-16, -1.06204064e-16, -2.80869658e-16, -3.08448022e-17,\n",
       "        0.00000000e+00, -1.05035072e-16,  8.79364190e-18, -2.68487164e-16,\n",
       "        4.24989208e-15, -7.54465976e-15,  5.82391142e-15, -6.78292641e-15,\n",
       "        2.25140801e-15, -6.07886820e-15,  6.97184742e-15, -2.15086231e-15,\n",
       "        1.23936850e-15,  3.17165741e-15, -1.02500668e-15, -2.75354246e-15,\n",
       "        5.18867934e-15,  3.43660749e-16, -5.67237821e-15,  8.77524951e-15,\n",
       "       -5.43722453e-15, -4.67747247e-16,  6.05911178e-15, -3.05972432e-15,\n",
       "       -9.14835529e-16,  4.17281093e-16,  2.90550382e-16,  6.25255872e-17,\n",
       "       -1.93746782e-17, -2.75538710e-16, -1.50597151e-16,  2.17087909e-17,\n",
       "       -4.74592467e-15,  1.12773424e-14, -7.69804005e-15,  5.60897618e-15,\n",
       "        1.64296931e-15,  2.92406463e-16, -6.26949785e-15,  1.25158517e-16,\n",
       "        3.10548987e-15, -1.02543577e-14,  9.72642343e-15, -4.35235055e-15,\n",
       "       -1.45287052e-15, -2.02456874e-15,  2.70382515e-15, -2.97856346e-15,\n",
       "        3.16996537e-15, -1.01530368e-15, -3.03527947e-15,  1.28304746e-15,\n",
       "        5.99698634e-16,  3.02982096e-16, -4.25096013e-16,  3.09898085e-17,\n",
       "       -1.45278935e-14,  6.89003846e-16, -5.18505422e-16,  2.19314391e-15,\n",
       "        1.48462904e-15, -1.09168660e-14,  6.52201464e-15, -4.36989747e-15,\n",
       "       -1.34498417e-16,  1.40125669e-15,  4.21925313e-15, -2.77632082e-15,\n",
       "        3.08597873e-15, -1.36276256e-15,  3.94178198e-15, -1.84029448e-15,\n",
       "        1.48130169e-15,  2.06996600e-15, -1.39229840e-15,  2.13185721e-15,\n",
       "       -9.20108779e-16, -9.73033155e-16,  3.23680481e-15, -2.35551044e-15,\n",
       "       -5.63333517e-16,  2.64808215e-16,  4.15523147e-17, -2.99403987e-16,\n",
       "        2.29287604e-14, -5.36724758e-16,  3.69950837e-16, -1.16063078e-15,\n",
       "       -1.89260285e-15,  9.40069314e-15, -7.04934391e-15,  4.72630167e-15,\n",
       "       -3.85266114e-15,  1.42391716e-15, -4.28939443e-16, -4.76936026e-16,\n",
       "        1.67902914e-15, -5.72710893e-16, -5.06328317e-15,  1.28565501e-15,\n",
       "        1.44217849e-16, -5.35340551e-16,  8.68413987e-16, -3.95086505e-15,\n",
       "       -7.16633999e-17,  2.00986461e-15, -9.45622182e-16,  4.44097473e-15,\n",
       "       -5.89401292e-16,  5.20007034e-17,  8.47543243e-17,  3.27023862e-16,\n",
       "       -2.25607726e-14,  4.39593646e-16, -5.45515864e-16, -5.20002526e-16,\n",
       "        3.49274832e-15, -4.47677813e-15,  3.76206768e-15, -4.94506513e-15,\n",
       "        5.90658279e-15, -2.63231847e-15, -5.39334333e-17, -3.46428259e-15,\n",
       "        5.31757743e-16,  4.42876996e-15, -2.78319122e-15,  3.58546870e-15,\n",
       "        3.66140612e-16, -1.81475243e-15, -1.62021757e-15,  5.73299903e-15,\n",
       "       -4.56925565e-17, -2.93865788e-15, -1.41990081e-15, -5.79450464e-15,\n",
       "        2.04769840e-15, -6.31084806e-16, -2.78817048e-17, -1.92773690e-16,\n",
       "        2.02962451e-14, -4.82762910e-16,  8.60649972e-16,  7.56431246e-16,\n",
       "       -2.33025401e-15, -1.10803073e-16, -2.79212415e-15,  9.05824742e-15,\n",
       "       -9.51974423e-15,  1.78886940e-15,  2.17702239e-15,  3.14734537e-15,\n",
       "       -6.89111440e-15,  3.64067332e-15, -1.64236790e-15, -1.15853593e-15,\n",
       "       -4.30117464e-15,  6.34539962e-15,  7.09149371e-16, -3.88718877e-15,\n",
       "        9.44248099e-16,  6.43933268e-16,  5.00040697e-15,  4.41564842e-15,\n",
       "       -9.78596459e-16,  2.58105080e-17,  5.47976568e-17,  1.81591142e-16,\n",
       "        1.18414612e-16,  4.37391442e-16, -1.34641857e-15,  3.87655142e-16,\n",
       "       -9.78879753e-16,  2.90523004e-15,  2.47964784e-15, -7.70125999e-15,\n",
       "        7.61456352e-15, -2.61188567e-15, -6.17414585e-16,  1.03959812e-16,\n",
       "        7.47284687e-16, -3.21836639e-16,  7.69605476e-16,  2.36328201e-15,\n",
       "        2.92804719e-15, -3.13346316e-15, -1.83084708e-15, -2.28977300e-15,\n",
       "        2.90141959e-15, -1.94119219e-15, -6.30464456e-16, -9.90941274e-15,\n",
       "        4.68324212e-15, -1.00161004e-15,  3.19800530e-16, -2.72501736e-16,\n",
       "        0.00000000e+00, -4.15025714e-16,  9.60662178e-16, -3.64506946e-16,\n",
       "        1.76525733e-15, -3.37196426e-15, -1.98904094e-15, -7.22727955e-16,\n",
       "       -1.22537169e-15,  8.85525352e-16, -1.07995432e-15,  8.41003302e-16,\n",
       "        8.71113452e-16,  1.49324312e-16, -3.94525409e-15, -4.74249891e-16,\n",
       "       -1.79015117e-15,  1.85487905e-15,  9.05660223e-16,  5.53397073e-15,\n",
       "       -2.36388805e-15, -8.27072043e-16,  4.26183643e-16,  1.08941347e-14,\n",
       "       -1.05599404e-14,  2.68367465e-15, -4.59250602e-16,  1.01049820e-16,\n",
       "        0.00000000e+00,  0.00000000e+00, -1.99358398e-16, -1.89728900e-16,\n",
       "       -1.03294619e-15,  3.81458535e-15,  2.73419323e-15,  4.20380919e-15,\n",
       "       -1.65923548e-15,  2.06050201e-15, -1.76179013e-15, -9.89605974e-16,\n",
       "        2.31011277e-15, -5.04919348e-15,  7.76250704e-15, -1.67375279e-15,\n",
       "        1.05938056e-16,  2.21678938e-16, -1.31510143e-15, -2.32195629e-15,\n",
       "       -3.77122343e-15,  6.39300751e-15, -3.50455984e-15, -3.84295594e-15,\n",
       "        9.95908178e-15, -3.19654381e-15,  4.57328059e-16, -2.34345326e-18,\n",
       "        0.00000000e+00, -7.09302893e-17,  6.89343136e-17, -7.55591332e-16,\n",
       "        2.11877411e-15, -1.89229690e-15, -4.71929272e-15, -1.00500834e-15,\n",
       "        9.75927922e-16, -3.19884905e-15,  6.20952714e-15, -4.12813876e-15,\n",
       "        5.74468832e-17,  3.07722166e-15, -5.29097800e-15,  2.36551543e-15,\n",
       "       -3.40227336e-15,  4.57011749e-15, -3.37764319e-15,  4.94395878e-15,\n",
       "        4.77605235e-15, -8.30328112e-15,  8.33488405e-15, -7.99193541e-15,\n",
       "       -8.35402324e-16,  1.30980182e-15, -1.57123324e-16,  6.33798571e-17,\n",
       "        0.00000000e+00, -9.15768968e-16, -8.23411625e-17,  1.11362355e-15,\n",
       "       -3.27874696e-15, -3.62190683e-15,  6.05982218e-15, -9.91283535e-16,\n",
       "        1.20383609e-15,  6.28840495e-16, -7.52684927e-15,  8.58584399e-15,\n",
       "       -1.81994764e-15, -4.38375561e-15,  5.98304336e-15, -4.84069272e-15,\n",
       "        8.24630075e-15, -7.95015784e-15,  5.27489249e-15, -4.25308785e-15,\n",
       "       -7.89999545e-15,  9.07256508e-15, -4.00575468e-15,  7.45498094e-15,\n",
       "       -2.94157509e-15,  2.40353100e-16, -1.84302234e-16,  3.32639640e-16,\n",
       "        4.95533485e-17,  3.20406378e-15, -1.01488578e-16, -4.24690557e-16,\n",
       "        4.08263698e-15,  6.15230750e-15, -6.27722982e-15,  8.81378708e-16,\n",
       "       -3.45706704e-15,  1.61679606e-15,  5.38614879e-15, -8.62887401e-15,\n",
       "        3.41663229e-15,  1.25404835e-15, -2.84430615e-15,  1.18308836e-15,\n",
       "       -4.53674246e-15,  4.50779316e-15, -1.63909683e-15,  5.48498132e-15,\n",
       "        3.71106969e-15, -4.91111893e-15, -7.89072212e-16, -1.78452223e-15,\n",
       "        1.22443654e-15, -1.09050281e-16,  6.90886080e-17, -4.32015543e-16,\n",
       "        0.00000000e+00, -3.12634183e-15,  1.96334528e-16, -1.15472350e-15,\n",
       "       -3.49238628e-15, -4.45475204e-15,  4.50198530e-15,  4.22567732e-17,\n",
       "        4.66012952e-15, -3.47598421e-15, -4.59808492e-16,  3.66821934e-15,\n",
       "       -1.17478720e-15, -1.65874250e-15,  3.51683524e-15,  7.79234379e-16,\n",
       "       -3.77117669e-15,  4.08622311e-15, -7.40784724e-15, -3.58876599e-15,\n",
       "        1.84027636e-15,  4.51966998e-16, -1.38338751e-15,  2.39913135e-15,\n",
       "       -1.09000528e-15, -3.49658526e-16,  2.16902269e-16,  4.93798344e-16,\n",
       "        0.00000000e+00, -4.05626326e-16, -1.79730956e-16,  1.01069699e-15,\n",
       "        1.43531010e-15,  1.58199752e-15, -2.94153654e-15, -3.78694920e-16,\n",
       "       -4.70501787e-15,  1.08300038e-15,  1.01019545e-15, -1.30026648e-15,\n",
       "       -2.78835255e-16,  2.22776390e-15, -5.21065784e-15,  6.26658896e-15,\n",
       "       -5.92353232e-16, -1.42095942e-15,  1.05665946e-14, -6.86732981e-16,\n",
       "       -5.28974379e-15,  7.22531692e-15, -2.08048305e-15,  2.94231008e-16,\n",
       "       -3.47942843e-16,  6.89535484e-16, -3.14671159e-16,  6.34239935e-17,\n",
       "       -9.65539581e-04, -1.84076239e-16, -2.86409479e-16,  1.33485732e-15,\n",
       "       -7.33508689e-16,  6.37590446e-16,  1.09652136e-15,  1.43892823e-15,\n",
       "        2.72845328e-15,  1.70272344e-15, -1.76473125e-15, -1.00947156e-15,\n",
       "        2.50669741e-15, -1.61375979e-15,  9.16283169e-16, -5.19155518e-15,\n",
       "        3.67498634e-15, -4.98300010e-15, -4.74083024e-15,  4.86963593e-15,\n",
       "       -5.86780888e-16, -3.27936718e-15, -5.64418956e-16,  2.04419490e-15,\n",
       "       -1.20953472e-15,  6.44152073e-17,  7.38466537e-17, -1.23977716e-03,\n",
       "        9.65737786e-04,  4.49976661e-15, -1.77257117e-16, -7.26630359e-16,\n",
       "       -1.38002019e-15,  1.08507299e-16, -5.93429191e-16, -2.90391485e-15,\n",
       "       -3.01714804e-16,  8.94072027e-17, -1.58065666e-16,  1.18324748e-16,\n",
       "        8.98528536e-16, -2.53441797e-15,  3.96790655e-15, -8.29111622e-17,\n",
       "       -1.19529753e-15,  4.25629821e-15, -9.38992849e-16, -2.32371943e-15,\n",
       "        1.74345275e-15,  8.76860030e-16,  8.43119462e-16, -2.01820378e-15,\n",
       "        1.02072085e-15, -4.48288255e-18, -2.14791679e-16,  1.23680677e-03,\n",
       "        0.00000000e+00,  0.00000000e+00,  4.66660860e-16,  1.95460661e-16,\n",
       "        6.64153110e-16,  4.52218972e-16, -7.33428132e-16,  3.03870502e-15,\n",
       "       -7.54792103e-16, -1.91167588e-15,  2.53059776e-15, -9.50885780e-16,\n",
       "       -2.04500976e-15,  3.79562239e-15, -4.20742963e-15,  2.40491970e-15,\n",
       "       -5.84730090e-16, -1.50894785e-15,  2.92561005e-15, -1.59150968e-15,\n",
       "        1.13298757e-16,  1.00800602e-16, -1.31752346e-15,  1.12861516e-15,\n",
       "       -1.87929739e-16, -1.88872439e-16,  1.10692252e-16,  0.00000000e+00,\n",
       "        0.00000000e+00,  0.00000000e+00,  8.99322067e-17, -2.86849187e-16,\n",
       "        2.10640461e-16, -2.02858752e-16, -2.53638894e-16, -7.51568669e-16,\n",
       "        6.76806738e-16, -1.29396110e-16, -5.70858743e-16,  1.22566664e-15,\n",
       "       -8.89790538e-16, -4.83661838e-16,  1.31931096e-15, -1.98369907e-15,\n",
       "        1.89373129e-15, -1.44796154e-15,  5.74766674e-16, -6.27182345e-16,\n",
       "        1.24066960e-15, -2.76043026e-16,  3.81787852e-16, -1.78786190e-16,\n",
       "       -4.20487453e-16, -1.65934684e-18, -9.13768728e-16,  0.00000000e+00,\n",
       "        0.00000000e+00,  0.00000000e+00, -1.71809537e-17,  1.63481924e-16,\n",
       "       -6.03621856e-16,  6.43789364e-16, -3.95292062e-16,  3.80439422e-16,\n",
       "       -9.19187536e-16,  1.47948776e-15, -2.04825425e-15,  9.12128742e-16,\n",
       "       -2.24198886e-16,  2.43292121e-16,  8.02741757e-16, -1.28142550e-15,\n",
       "        6.07002408e-16,  4.68085601e-17, -7.63042330e-16,  9.57610955e-16,\n",
       "       -5.35622737e-16, -1.48416892e-15,  1.55410651e-15, -8.49068590e-16,\n",
       "        8.99340098e-16,  3.15481323e-16,  7.61876799e-16,  0.00000000e+00,\n",
       "        0.00000000e+00,  0.00000000e+00,  0.00000000e+00,  0.00000000e+00,\n",
       "        1.18222463e-16, -1.48069569e-16,  6.46441911e-16, -1.35859969e-15,\n",
       "        1.70867932e-15, -2.04358202e-15,  1.91898940e-15, -7.99380219e-16,\n",
       "        2.08727770e-16, -1.80344425e-16, -6.51227624e-16,  4.28849526e-16,\n",
       "        1.25078968e-16, -4.25074328e-16,  4.13443524e-17, -2.23277915e-16,\n",
       "        1.14885754e-16,  5.49764634e-16, -5.86167824e-16,  3.10189040e-16,\n",
       "       -1.46065495e-16, -4.29733313e-17,  0.00000000e+00,  0.00000000e+00,\n",
       "        0.00000000e+00,  0.00000000e+00,  0.00000000e+00,  0.00000000e+00,\n",
       "        0.00000000e+00,  1.43920193e-16, -3.14456820e-16,  3.80063285e-16,\n",
       "       -3.19399732e-16,  3.32599664e-16, -6.91831442e-16,  4.45945100e-16,\n",
       "       -4.15691164e-16,  1.23541022e-16,  3.54718407e-16, -4.70924548e-16,\n",
       "        2.57981070e-16, -1.49313265e-16,  7.89294844e-17,  4.30870212e-16,\n",
       "       -5.35129119e-16,  4.20393444e-16, -8.38876139e-16,  6.25562604e-16,\n",
       "        0.00000000e+00,  0.00000000e+00,  0.00000000e+00,  0.00000000e+00])"
      ]
     },
     "execution_count": 15,
     "metadata": {},
     "output_type": "execute_result"
    }
   ],
   "source": [
    "eigen_vectors[:, 337]"
   ]
  },
  {
   "cell_type": "code",
   "execution_count": 22,
   "metadata": {},
   "outputs": [
    {
     "name": "stdout",
     "output_type": "stream",
     "text": [
      "784\n",
      "1.7076314529083398\n"
     ]
    }
   ],
   "source": [
    "eigen_zipped = zip(eigen_values,eigen_vectors)\n",
    "eigen_zipped = list(eigen_zipped)\n",
    "print(len(eigen_zipped))\n",
    "print(eigen_zipped[100][0])"
   ]
  },
  {
   "cell_type": "code",
   "execution_count": 23,
   "metadata": {},
   "outputs": [
    {
     "data": {
      "text/plain": [
       "(1.6811848524258872,\n",
       " array([ 1.38519829e-02, -3.43187646e-02,  2.46262618e-02,  7.44064166e-02,\n",
       "         5.48419391e-02,  1.66377417e-02, -3.43900435e-02, -3.40923237e-02,\n",
       "        -2.80687099e-04, -5.24930443e-02,  2.94645388e-02, -3.06485882e-02,\n",
       "        -1.25153533e-02, -5.19124237e-02,  2.53671843e-02,  1.39001546e-02,\n",
       "         1.24297611e-02, -2.19832453e-02, -5.59556488e-03,  1.63533864e-02,\n",
       "        -4.18891193e-02,  5.96600849e-02, -9.20606277e-02,  3.82515090e-02,\n",
       "        -1.17855292e-02,  4.98109601e-02,  7.96797018e-02,  1.88878756e-02,\n",
       "         2.73931807e-02,  3.66477955e-02,  4.97751863e-02, -2.04636184e-02,\n",
       "         1.19593248e-02,  9.05566329e-03,  7.55157729e-02,  6.36314385e-02,\n",
       "         6.44590048e-03,  1.44129161e-02, -4.23304129e-02, -9.23196824e-04,\n",
       "        -4.81736769e-02,  4.92710557e-02, -1.68201023e-02, -8.42881937e-02,\n",
       "        -4.65615707e-02, -1.00421428e-01, -3.23097947e-02,  5.33271902e-02,\n",
       "        -1.92951034e-02,  1.55121603e-02,  1.62656325e-02,  3.15305049e-03,\n",
       "        -3.42698836e-02,  2.10958688e-03, -3.03884142e-03, -4.91129013e-02,\n",
       "        -1.22695601e-02, -4.91076186e-02,  3.14496048e-02,  2.83678992e-02,\n",
       "        -5.58070918e-02, -4.25987250e-02, -1.31067554e-02,  2.41608723e-02,\n",
       "        -1.77250089e-02, -4.96607094e-02, -2.94287559e-02, -5.51979675e-02,\n",
       "        -1.67542584e-02, -1.23203105e-05,  4.39657897e-03,  2.34792978e-02,\n",
       "        -3.74079043e-02,  4.21836159e-02,  4.83290343e-03, -3.35706803e-02,\n",
       "        -3.92656074e-02,  8.89505305e-03, -1.98356151e-02, -3.86376739e-02,\n",
       "         1.86222909e-02,  4.13164626e-02, -1.93235095e-02, -1.55097594e-02,\n",
       "         1.07176823e-02,  2.99726019e-02,  1.46773382e-02, -6.90792942e-02,\n",
       "         2.79857998e-03,  2.16309528e-02,  1.54926247e-02,  3.73013614e-02,\n",
       "         4.59514454e-03,  1.66357165e-02,  3.58233724e-03,  2.10118458e-02,\n",
       "         3.23683597e-02,  1.70264201e-02,  3.28285571e-02,  1.41845876e-02,\n",
       "        -1.83165954e-02, -2.35738959e-03, -8.74532409e-03,  2.33514503e-02,\n",
       "        -6.49223279e-02, -3.93010347e-02, -2.81528587e-02, -4.16441538e-02,\n",
       "         6.64926712e-03,  1.20559326e-02, -6.46498248e-02, -4.06245982e-02,\n",
       "         4.52518366e-02,  2.64403089e-02, -2.37694920e-02, -5.08787277e-02,\n",
       "         5.19420912e-03,  2.22903396e-02, -2.77162145e-02, -2.71021683e-02,\n",
       "        -1.42457777e-02,  4.90686444e-02, -2.86597804e-02, -2.03925572e-02,\n",
       "        -1.16656430e-02, -2.32785968e-02, -6.14555495e-03,  2.36733441e-02,\n",
       "         9.25363192e-03,  3.99419179e-03, -6.49175347e-02, -2.24185784e-02,\n",
       "        -2.30658661e-02,  1.68959016e-02, -1.66870245e-02, -2.80694268e-02,\n",
       "        -6.38555065e-02,  6.73085468e-02,  5.03386607e-02,  1.20191904e-02,\n",
       "        -5.10205599e-02, -3.66186467e-02, -6.36732321e-02,  9.58967863e-03,\n",
       "         1.42816015e-02,  3.82673812e-02, -1.10180957e-02,  2.34787945e-02,\n",
       "         2.87732088e-02,  3.86591243e-02,  1.70044633e-02, -2.73018019e-02,\n",
       "        -3.65532904e-02,  3.78928936e-02,  1.86399093e-02, -3.75325776e-02,\n",
       "         4.01369937e-02,  1.48286981e-02,  1.89021811e-03,  4.10811440e-02,\n",
       "         5.71919411e-02, -2.78959366e-02, -9.06476002e-03,  2.10305312e-02,\n",
       "        -4.11600404e-02,  4.55731607e-02, -1.74953005e-02, -7.25589281e-03,\n",
       "         3.62495220e-02,  1.80174379e-02, -2.37495951e-02, -1.02202460e-02,\n",
       "        -1.18655517e-02, -2.84286620e-03,  1.72902437e-02,  5.54396419e-03,\n",
       "        -2.93166133e-02, -3.47986130e-02,  7.14839037e-02,  6.38783014e-02,\n",
       "         6.31765352e-02,  2.06725908e-02,  6.05760445e-02, -2.45221666e-02,\n",
       "        -2.54257544e-02, -3.84471621e-03,  2.70392154e-02,  1.78491528e-02,\n",
       "        -4.27152064e-02, -3.20270182e-02, -3.58360136e-03,  6.66226888e-02,\n",
       "        -6.76672524e-03, -2.69291554e-02, -9.18646194e-03,  1.30617619e-02,\n",
       "         2.26009245e-02, -1.84078379e-02,  2.78075415e-02,  5.87937044e-02,\n",
       "         1.02999958e-02,  3.97314701e-02, -1.59879897e-02, -9.40125218e-03,\n",
       "         7.53525770e-03,  2.15595102e-02,  3.47893530e-02,  8.16542401e-02,\n",
       "         5.41652345e-03,  1.77883070e-02,  1.18716183e-02, -1.23287352e-02,\n",
       "         8.11796568e-02,  3.87104675e-02,  1.96082252e-02, -8.56517499e-03,\n",
       "         1.88380892e-02,  2.57985834e-02,  8.32125877e-02,  7.12242672e-02,\n",
       "        -4.43662940e-02, -2.91340764e-02,  3.42411828e-02, -6.37816426e-03,\n",
       "        -4.32376930e-02,  3.79946377e-02, -4.08362774e-02,  6.11942316e-02,\n",
       "         3.99516257e-02, -1.97195697e-02, -7.44604894e-03, -2.54637349e-02,\n",
       "         1.24782674e-02, -1.27682414e-03, -6.43362618e-02,  3.41716793e-03,\n",
       "         3.04662964e-02, -1.91041121e-02,  3.05400102e-02,  1.04480241e-02,\n",
       "         5.43840150e-02, -3.32007036e-03, -6.72340376e-03,  7.55711487e-02,\n",
       "        -1.43205380e-03, -2.30230242e-02,  5.70446117e-02, -2.72059181e-02,\n",
       "         7.52764194e-02, -8.81534667e-02, -1.95336926e-02, -5.61219919e-02,\n",
       "         3.66149958e-03, -3.00099490e-02, -8.69224198e-03,  5.45645940e-04,\n",
       "        -4.92653958e-02,  9.03513749e-03,  3.16389569e-02, -8.03630029e-03,\n",
       "         5.14675433e-02,  1.39586400e-02, -4.71558018e-02,  9.42638118e-03,\n",
       "        -1.21574620e-02,  3.73425321e-02, -1.24392917e-01,  3.66667234e-02,\n",
       "        -9.65434794e-03, -9.44519360e-02, -2.08815166e-02,  6.28717499e-02,\n",
       "        -2.72742094e-02, -3.54934036e-03, -3.51750783e-03,  4.90380325e-02,\n",
       "         2.18899848e-02,  3.10281873e-02, -4.61856710e-02, -1.92895842e-02,\n",
       "         1.80040213e-02, -2.60458285e-02, -2.77057729e-02, -2.88213000e-03,\n",
       "         2.67217839e-03, -2.99899262e-02, -2.00849841e-03, -7.50133775e-02,\n",
       "         4.66027452e-02, -2.77803830e-02,  3.36302163e-03,  2.74895805e-02,\n",
       "         3.22633020e-02,  4.19513250e-02,  3.29932674e-02, -1.40076960e-03,\n",
       "        -4.32450775e-02,  3.22594240e-02, -7.35048395e-02,  6.82992145e-02,\n",
       "         5.98526589e-02, -2.73616651e-02,  8.68843091e-02, -2.12233163e-02,\n",
       "         1.71455308e-02, -2.35986242e-02,  7.00039742e-02,  3.52319411e-02,\n",
       "         4.11805491e-02, -2.85884938e-02,  9.76416681e-03,  5.81089853e-02,\n",
       "        -5.90793062e-02, -1.28746043e-02,  3.13000671e-02,  2.82643548e-02,\n",
       "         5.04435951e-02,  1.25963568e-02,  2.33615621e-02,  2.43190466e-02,\n",
       "        -2.03583994e-02, -9.73235757e-02,  8.03898934e-03, -2.73880216e-02,\n",
       "        -1.25722959e-02,  7.75718514e-03,  1.31721343e-02, -7.80429707e-02,\n",
       "        -3.64848572e-02, -3.19260313e-02,  8.47161334e-02,  1.17531505e-01,\n",
       "        -4.15238980e-02, -2.00697815e-03,  2.40922596e-02,  3.10977516e-02,\n",
       "        -3.99077128e-02,  3.06231607e-15, -2.14610943e-03,  2.23796027e-02,\n",
       "        -2.29068368e-02,  1.49378538e-03, -1.80656615e-02,  5.53243591e-02,\n",
       "         3.47213017e-02,  7.02027363e-03, -1.24274669e-02, -3.85088292e-02,\n",
       "         1.16241803e-02,  1.98796633e-03,  4.66728459e-16,  4.00174259e-15,\n",
       "         4.00856955e-16, -2.30652121e-02, -1.70306995e-02, -7.67266076e-02,\n",
       "         4.05426277e-02,  3.73316862e-02,  7.86005894e-03,  3.31011522e-02,\n",
       "         2.80117402e-02,  5.98957156e-03, -2.64710848e-03, -1.22448790e-02,\n",
       "         2.43772390e-02,  5.07255103e-03, -2.09696896e-02,  1.10098821e-02,\n",
       "         2.14718604e-02, -2.03607940e-02,  1.11700088e-02, -1.34951420e-02,\n",
       "        -2.49583385e-02,  4.10112229e-02,  5.12967816e-03,  1.46583708e-02,\n",
       "        -2.49679338e-02, -1.66814457e-02,  4.93506055e-02, -1.18687096e-04,\n",
       "         1.50033614e-02,  4.26510226e-02, -4.04032170e-02,  2.20331399e-04,\n",
       "        -7.80031237e-04,  2.87156736e-02, -1.18038872e-02, -2.44062313e-02,\n",
       "        -8.83675167e-03,  2.21879998e-02,  1.26487753e-01,  4.77785781e-02,\n",
       "         2.86429973e-02,  1.17773438e-03, -9.82592220e-03,  4.62638860e-02,\n",
       "        -6.02103671e-02, -2.79384862e-02, -2.60783254e-02, -4.68563918e-03,\n",
       "        -4.91107555e-02, -4.95879511e-02, -7.83747163e-02,  2.80794216e-02,\n",
       "         7.22137321e-04,  9.64514299e-03,  3.61074863e-02, -1.53609929e-03,\n",
       "        -1.03964629e-02,  1.38051442e-02, -9.83792059e-05, -3.78693006e-02,\n",
       "         3.13858669e-03, -6.83305413e-02,  2.26511365e-02, -2.09800482e-02,\n",
       "         2.09655668e-02,  1.17361591e-02,  2.28334748e-02,  7.38400313e-02,\n",
       "         6.42501408e-02,  1.13222266e-01,  4.51402137e-02,  2.36436552e-02,\n",
       "         1.70658740e-02, -1.03921285e-02, -2.25789007e-02,  2.43456751e-02,\n",
       "        -2.47628350e-02, -2.13906232e-02, -6.13937073e-02,  2.66140256e-02,\n",
       "        -3.28543738e-02,  2.13380470e-02, -5.54219183e-02,  3.19559124e-04,\n",
       "         3.61226925e-03,  4.73070375e-03,  6.45702123e-02, -1.96272160e-02,\n",
       "         6.60439743e-02, -2.02911221e-02,  5.35694672e-02,  4.00751655e-02,\n",
       "         1.09873760e-02, -1.45081132e-02, -1.05822113e-02,  2.72827900e-02,\n",
       "         2.03137376e-02,  1.02155039e-02, -1.53331686e-02,  5.46317840e-03,\n",
       "         4.01520116e-02,  1.10836009e-02, -1.12996407e-02, -9.69016663e-03,\n",
       "        -1.31397580e-02,  3.22194225e-02, -2.75336678e-02,  1.65145333e-02,\n",
       "        -4.92047314e-03, -2.31952575e-02, -1.42804831e-02, -8.55411942e-03,\n",
       "         2.77917601e-03,  9.58824197e-05, -6.18562084e-04,  1.96975593e-03,\n",
       "        -6.32504898e-03, -1.52148096e-03, -6.46095276e-03,  3.14085001e-03,\n",
       "        -1.19777972e-02,  6.00814528e-03, -3.68201643e-03, -6.02856763e-03,\n",
       "        -2.92029418e-03,  1.04490098e-04,  3.47834356e-03, -2.01777185e-03,\n",
       "        -1.21301071e-02, -3.42118780e-02, -3.11376042e-02,  1.30031473e-02,\n",
       "        -6.29590269e-03, -1.07918005e-03,  1.09728480e-02, -4.28484890e-02,\n",
       "        -4.72092875e-02,  4.32329678e-02, -2.46479829e-03, -7.51684905e-02,\n",
       "        -6.76076723e-02, -1.32022649e-02, -2.60661891e-02,  1.04048613e-03,\n",
       "         9.11005488e-04,  6.86726138e-03, -4.19023047e-03,  1.31187961e-02,\n",
       "        -9.09960614e-03, -1.44115360e-02, -1.99322116e-02,  7.82271832e-03,\n",
       "        -4.46917706e-02, -4.63472077e-02,  7.84214350e-03, -1.41410145e-02,\n",
       "        -2.77621414e-02, -8.52699199e-03, -8.99037013e-03,  4.09732624e-03,\n",
       "         1.65764297e-02,  1.79638158e-02,  8.83934049e-03, -5.35586468e-03,\n",
       "        -1.25522152e-02, -5.44409050e-03,  3.23530337e-02,  1.65056605e-03,\n",
       "         1.19772109e-03, -1.00955491e-02,  1.09770404e-02,  1.55381628e-02,\n",
       "        -1.72963794e-02,  4.25584445e-03, -1.66384617e-02, -7.37569524e-02,\n",
       "        -1.29640796e-02, -6.20314377e-02, -2.14473128e-02, -2.32851345e-02,\n",
       "         2.95538910e-02, -2.46106680e-02,  6.52945686e-02,  2.88777091e-02,\n",
       "        -4.57747787e-02, -4.08257515e-02, -2.80067755e-02,  4.41889788e-02,\n",
       "         6.25486862e-03,  1.48116033e-02,  6.16918140e-02,  5.21709765e-02,\n",
       "        -2.17788527e-02, -3.07975293e-02, -3.43818207e-03,  1.10528873e-02,\n",
       "        -8.39679850e-02, -3.53321024e-02, -3.15485349e-02,  3.02296846e-02,\n",
       "        -2.05500957e-02, -9.31566670e-02,  1.80623668e-02, -9.15956775e-03,\n",
       "         1.32778186e-03, -1.54441430e-02,  2.03287974e-02, -1.11285743e-03,\n",
       "         5.36569422e-02,  2.65414608e-02, -8.88768814e-03, -5.13302620e-02,\n",
       "        -3.33887804e-03,  2.58907918e-03,  1.13504456e-02,  2.50307800e-02,\n",
       "        -1.61750546e-02, -5.97553706e-02,  3.13220610e-02, -2.70242718e-02,\n",
       "        -8.62842638e-02,  1.58705416e-02,  3.53649477e-02,  2.97902163e-02,\n",
       "        -1.10644567e-03,  1.23950495e-02,  9.06210659e-02,  4.46732413e-03,\n",
       "        -5.09748094e-02, -6.97070210e-02,  1.83608690e-02, -2.21527738e-02,\n",
       "         4.72204415e-02, -2.80974855e-02, -3.81344698e-04, -6.06113808e-02,\n",
       "        -3.43309973e-02, -7.56290573e-02,  2.52721638e-02,  5.05108625e-02,\n",
       "         3.65074814e-02,  5.77399174e-02, -5.23738296e-02,  1.14330297e-01,\n",
       "         5.78606868e-02, -1.56364280e-02,  1.85113609e-02, -6.38917936e-02,\n",
       "         1.12690971e-01,  6.39797948e-02, -3.31698537e-02, -9.24647954e-03,\n",
       "         2.05507030e-03, -2.11819553e-02, -3.53264821e-02, -7.27152085e-03,\n",
       "         1.41657125e-02,  1.73801856e-02,  2.76694477e-02, -4.02019910e-02,\n",
       "         3.38897679e-02, -2.61115092e-02,  2.39341671e-02,  5.59097516e-02,\n",
       "         8.86660846e-03,  2.40853147e-02,  8.48176693e-02, -3.06730787e-02,\n",
       "         3.15032018e-02,  8.17345772e-02,  8.42932736e-02, -1.58239784e-02,\n",
       "         2.00488191e-03,  2.63712587e-02,  8.00181167e-02,  1.73445031e-02,\n",
       "        -7.96602525e-03,  6.69651226e-02,  6.05313324e-02, -2.22650112e-02,\n",
       "         4.25872449e-03, -4.77838537e-02, -7.87463030e-02, -6.51228536e-02,\n",
       "         4.53580350e-02,  4.23617555e-02, -8.57223643e-02, -8.11509371e-02,\n",
       "         3.27599780e-02, -3.02190904e-02,  5.24320127e-02,  7.61496320e-03,\n",
       "        -6.22955522e-02, -6.67461031e-03,  3.02824596e-02,  6.74608953e-03,\n",
       "        -4.49813526e-03, -3.52570324e-02,  1.03007946e-02,  2.56683752e-02,\n",
       "         1.69551865e-02,  9.99343565e-02, -4.29836306e-03,  1.49297779e-02,\n",
       "         1.32360018e-02, -1.71222670e-02, -3.75734452e-02, -4.42328592e-02,\n",
       "         3.05963657e-02,  8.45386398e-03,  3.87895603e-03,  2.55477254e-02,\n",
       "        -6.08351218e-03, -5.75843296e-02,  7.43766192e-02,  5.20916905e-02,\n",
       "         1.69353021e-02,  6.60766885e-02,  5.74685275e-02, -2.55183873e-02,\n",
       "        -5.00779545e-02,  3.67772243e-02, -5.33876421e-02, -1.77844665e-02,\n",
       "         4.07257877e-02,  5.64429428e-02,  7.49640668e-03,  3.83803041e-02,\n",
       "         1.57007185e-02,  3.28922466e-02,  2.86054962e-02,  7.11646428e-02,\n",
       "         4.43950371e-03,  7.41032630e-02, -5.57232917e-02,  1.67918169e-02,\n",
       "        -4.71326387e-02,  1.75669460e-02,  1.81821890e-02, -6.00086037e-02,\n",
       "         1.08802944e-02,  2.06839215e-03, -1.83806397e-02,  7.28409646e-02,\n",
       "         2.58075874e-02, -2.61264179e-02, -7.52590101e-03,  1.05283432e-02,\n",
       "         4.14693181e-02,  1.55598905e-02, -2.16002822e-02, -5.93898517e-02,\n",
       "         2.15462284e-02,  5.23084858e-02,  4.71902845e-02,  2.16442919e-02,\n",
       "         0.00000000e+00,  0.00000000e+00,  0.00000000e+00,  0.00000000e+00,\n",
       "         0.00000000e+00,  0.00000000e+00,  0.00000000e+00,  0.00000000e+00,\n",
       "         0.00000000e+00,  0.00000000e+00,  0.00000000e+00,  0.00000000e+00,\n",
       "         0.00000000e+00,  0.00000000e+00,  0.00000000e+00,  0.00000000e+00,\n",
       "         0.00000000e+00,  0.00000000e+00,  0.00000000e+00,  0.00000000e+00,\n",
       "         0.00000000e+00,  0.00000000e+00,  0.00000000e+00,  0.00000000e+00,\n",
       "         0.00000000e+00,  0.00000000e+00,  0.00000000e+00,  0.00000000e+00,\n",
       "         0.00000000e+00,  0.00000000e+00,  0.00000000e+00,  0.00000000e+00,\n",
       "         0.00000000e+00,  0.00000000e+00,  0.00000000e+00,  0.00000000e+00,\n",
       "         0.00000000e+00,  0.00000000e+00,  0.00000000e+00,  0.00000000e+00,\n",
       "         0.00000000e+00,  0.00000000e+00,  0.00000000e+00,  0.00000000e+00,\n",
       "         0.00000000e+00,  0.00000000e+00,  0.00000000e+00,  0.00000000e+00,\n",
       "         0.00000000e+00,  0.00000000e+00,  0.00000000e+00,  0.00000000e+00,\n",
       "         0.00000000e+00,  0.00000000e+00,  0.00000000e+00,  0.00000000e+00,\n",
       "         0.00000000e+00,  0.00000000e+00,  0.00000000e+00,  0.00000000e+00,\n",
       "         0.00000000e+00,  0.00000000e+00,  0.00000000e+00,  0.00000000e+00,\n",
       "         0.00000000e+00,  0.00000000e+00,  0.00000000e+00,  0.00000000e+00,\n",
       "         0.00000000e+00,  0.00000000e+00,  0.00000000e+00,  0.00000000e+00,\n",
       "         0.00000000e+00,  0.00000000e+00,  0.00000000e+00,  0.00000000e+00]))"
      ]
     },
     "execution_count": 23,
     "metadata": {},
     "output_type": "execute_result"
    }
   ],
   "source": [
    "eigen_sorted = sorted(eigen_zipped, key=lambda x: x[0], reverse=True)\n",
    "eigen_sorted[100]"
   ]
  },
  {
   "cell_type": "code",
   "execution_count": 24,
   "metadata": {},
   "outputs": [
    {
     "name": "stdout",
     "output_type": "stream",
     "text": [
      "(784,) (784, 784)\n",
      "1.6811848524258872\n",
      "[ 1.38519829e-02 -3.43187646e-02  2.46262618e-02  7.44064166e-02\n",
      "  5.48419391e-02  1.66377417e-02 -3.43900435e-02 -3.40923237e-02\n",
      " -2.80687099e-04 -5.24930443e-02  2.94645388e-02 -3.06485882e-02\n",
      " -1.25153533e-02 -5.19124237e-02  2.53671843e-02  1.39001546e-02\n",
      "  1.24297611e-02 -2.19832453e-02 -5.59556488e-03  1.63533864e-02\n",
      " -4.18891193e-02  5.96600849e-02 -9.20606277e-02  3.82515090e-02\n",
      " -1.17855292e-02  4.98109601e-02  7.96797018e-02  1.88878756e-02\n",
      "  2.73931807e-02  3.66477955e-02  4.97751863e-02 -2.04636184e-02\n",
      "  1.19593248e-02  9.05566329e-03  7.55157729e-02  6.36314385e-02\n",
      "  6.44590048e-03  1.44129161e-02 -4.23304129e-02 -9.23196824e-04\n",
      " -4.81736769e-02  4.92710557e-02 -1.68201023e-02 -8.42881937e-02\n",
      " -4.65615707e-02 -1.00421428e-01 -3.23097947e-02  5.33271902e-02\n",
      " -1.92951034e-02  1.55121603e-02  1.62656325e-02  3.15305049e-03\n",
      " -3.42698836e-02  2.10958688e-03 -3.03884142e-03 -4.91129013e-02\n",
      " -1.22695601e-02 -4.91076186e-02  3.14496048e-02  2.83678992e-02\n",
      " -5.58070918e-02 -4.25987250e-02 -1.31067554e-02  2.41608723e-02\n",
      " -1.77250089e-02 -4.96607094e-02 -2.94287559e-02 -5.51979675e-02\n",
      " -1.67542584e-02 -1.23203105e-05  4.39657897e-03  2.34792978e-02\n",
      " -3.74079043e-02  4.21836159e-02  4.83290343e-03 -3.35706803e-02\n",
      " -3.92656074e-02  8.89505305e-03 -1.98356151e-02 -3.86376739e-02\n",
      "  1.86222909e-02  4.13164626e-02 -1.93235095e-02 -1.55097594e-02\n",
      "  1.07176823e-02  2.99726019e-02  1.46773382e-02 -6.90792942e-02\n",
      "  2.79857998e-03  2.16309528e-02  1.54926247e-02  3.73013614e-02\n",
      "  4.59514454e-03  1.66357165e-02  3.58233724e-03  2.10118458e-02\n",
      "  3.23683597e-02  1.70264201e-02  3.28285571e-02  1.41845876e-02\n",
      " -1.83165954e-02 -2.35738959e-03 -8.74532409e-03  2.33514503e-02\n",
      " -6.49223279e-02 -3.93010347e-02 -2.81528587e-02 -4.16441538e-02\n",
      "  6.64926712e-03  1.20559326e-02 -6.46498248e-02 -4.06245982e-02\n",
      "  4.52518366e-02  2.64403089e-02 -2.37694920e-02 -5.08787277e-02\n",
      "  5.19420912e-03  2.22903396e-02 -2.77162145e-02 -2.71021683e-02\n",
      " -1.42457777e-02  4.90686444e-02 -2.86597804e-02 -2.03925572e-02\n",
      " -1.16656430e-02 -2.32785968e-02 -6.14555495e-03  2.36733441e-02\n",
      "  9.25363192e-03  3.99419179e-03 -6.49175347e-02 -2.24185784e-02\n",
      " -2.30658661e-02  1.68959016e-02 -1.66870245e-02 -2.80694268e-02\n",
      " -6.38555065e-02  6.73085468e-02  5.03386607e-02  1.20191904e-02\n",
      " -5.10205599e-02 -3.66186467e-02 -6.36732321e-02  9.58967863e-03\n",
      "  1.42816015e-02  3.82673812e-02 -1.10180957e-02  2.34787945e-02\n",
      "  2.87732088e-02  3.86591243e-02  1.70044633e-02 -2.73018019e-02\n",
      " -3.65532904e-02  3.78928936e-02  1.86399093e-02 -3.75325776e-02\n",
      "  4.01369937e-02  1.48286981e-02  1.89021811e-03  4.10811440e-02\n",
      "  5.71919411e-02 -2.78959366e-02 -9.06476002e-03  2.10305312e-02\n",
      " -4.11600404e-02  4.55731607e-02 -1.74953005e-02 -7.25589281e-03\n",
      "  3.62495220e-02  1.80174379e-02 -2.37495951e-02 -1.02202460e-02\n",
      " -1.18655517e-02 -2.84286620e-03  1.72902437e-02  5.54396419e-03\n",
      " -2.93166133e-02 -3.47986130e-02  7.14839037e-02  6.38783014e-02\n",
      "  6.31765352e-02  2.06725908e-02  6.05760445e-02 -2.45221666e-02\n",
      " -2.54257544e-02 -3.84471621e-03  2.70392154e-02  1.78491528e-02\n",
      " -4.27152064e-02 -3.20270182e-02 -3.58360136e-03  6.66226888e-02\n",
      " -6.76672524e-03 -2.69291554e-02 -9.18646194e-03  1.30617619e-02\n",
      "  2.26009245e-02 -1.84078379e-02  2.78075415e-02  5.87937044e-02\n",
      "  1.02999958e-02  3.97314701e-02 -1.59879897e-02 -9.40125218e-03\n",
      "  7.53525770e-03  2.15595102e-02  3.47893530e-02  8.16542401e-02\n",
      "  5.41652345e-03  1.77883070e-02  1.18716183e-02 -1.23287352e-02\n",
      "  8.11796568e-02  3.87104675e-02  1.96082252e-02 -8.56517499e-03\n",
      "  1.88380892e-02  2.57985834e-02  8.32125877e-02  7.12242672e-02\n",
      " -4.43662940e-02 -2.91340764e-02  3.42411828e-02 -6.37816426e-03\n",
      " -4.32376930e-02  3.79946377e-02 -4.08362774e-02  6.11942316e-02\n",
      "  3.99516257e-02 -1.97195697e-02 -7.44604894e-03 -2.54637349e-02\n",
      "  1.24782674e-02 -1.27682414e-03 -6.43362618e-02  3.41716793e-03\n",
      "  3.04662964e-02 -1.91041121e-02  3.05400102e-02  1.04480241e-02\n",
      "  5.43840150e-02 -3.32007036e-03 -6.72340376e-03  7.55711487e-02\n",
      " -1.43205380e-03 -2.30230242e-02  5.70446117e-02 -2.72059181e-02\n",
      "  7.52764194e-02 -8.81534667e-02 -1.95336926e-02 -5.61219919e-02\n",
      "  3.66149958e-03 -3.00099490e-02 -8.69224198e-03  5.45645940e-04\n",
      " -4.92653958e-02  9.03513749e-03  3.16389569e-02 -8.03630029e-03\n",
      "  5.14675433e-02  1.39586400e-02 -4.71558018e-02  9.42638118e-03\n",
      " -1.21574620e-02  3.73425321e-02 -1.24392917e-01  3.66667234e-02\n",
      " -9.65434794e-03 -9.44519360e-02 -2.08815166e-02  6.28717499e-02\n",
      " -2.72742094e-02 -3.54934036e-03 -3.51750783e-03  4.90380325e-02\n",
      "  2.18899848e-02  3.10281873e-02 -4.61856710e-02 -1.92895842e-02\n",
      "  1.80040213e-02 -2.60458285e-02 -2.77057729e-02 -2.88213000e-03\n",
      "  2.67217839e-03 -2.99899262e-02 -2.00849841e-03 -7.50133775e-02\n",
      "  4.66027452e-02 -2.77803830e-02  3.36302163e-03  2.74895805e-02\n",
      "  3.22633020e-02  4.19513250e-02  3.29932674e-02 -1.40076960e-03\n",
      " -4.32450775e-02  3.22594240e-02 -7.35048395e-02  6.82992145e-02\n",
      "  5.98526589e-02 -2.73616651e-02  8.68843091e-02 -2.12233163e-02\n",
      "  1.71455308e-02 -2.35986242e-02  7.00039742e-02  3.52319411e-02\n",
      "  4.11805491e-02 -2.85884938e-02  9.76416681e-03  5.81089853e-02\n",
      " -5.90793062e-02 -1.28746043e-02  3.13000671e-02  2.82643548e-02\n",
      "  5.04435951e-02  1.25963568e-02  2.33615621e-02  2.43190466e-02\n",
      " -2.03583994e-02 -9.73235757e-02  8.03898934e-03 -2.73880216e-02\n",
      " -1.25722959e-02  7.75718514e-03  1.31721343e-02 -7.80429707e-02\n",
      " -3.64848572e-02 -3.19260313e-02  8.47161334e-02  1.17531505e-01\n",
      " -4.15238980e-02 -2.00697815e-03  2.40922596e-02  3.10977516e-02\n",
      " -3.99077128e-02  3.06231607e-15 -2.14610943e-03  2.23796027e-02\n",
      " -2.29068368e-02  1.49378538e-03 -1.80656615e-02  5.53243591e-02\n",
      "  3.47213017e-02  7.02027363e-03 -1.24274669e-02 -3.85088292e-02\n",
      "  1.16241803e-02  1.98796633e-03  4.66728459e-16  4.00174259e-15\n",
      "  4.00856955e-16 -2.30652121e-02 -1.70306995e-02 -7.67266076e-02\n",
      "  4.05426277e-02  3.73316862e-02  7.86005894e-03  3.31011522e-02\n",
      "  2.80117402e-02  5.98957156e-03 -2.64710848e-03 -1.22448790e-02\n",
      "  2.43772390e-02  5.07255103e-03 -2.09696896e-02  1.10098821e-02\n",
      "  2.14718604e-02 -2.03607940e-02  1.11700088e-02 -1.34951420e-02\n",
      " -2.49583385e-02  4.10112229e-02  5.12967816e-03  1.46583708e-02\n",
      " -2.49679338e-02 -1.66814457e-02  4.93506055e-02 -1.18687096e-04\n",
      "  1.50033614e-02  4.26510226e-02 -4.04032170e-02  2.20331399e-04\n",
      " -7.80031237e-04  2.87156736e-02 -1.18038872e-02 -2.44062313e-02\n",
      " -8.83675167e-03  2.21879998e-02  1.26487753e-01  4.77785781e-02\n",
      "  2.86429973e-02  1.17773438e-03 -9.82592220e-03  4.62638860e-02\n",
      " -6.02103671e-02 -2.79384862e-02 -2.60783254e-02 -4.68563918e-03\n",
      " -4.91107555e-02 -4.95879511e-02 -7.83747163e-02  2.80794216e-02\n",
      "  7.22137321e-04  9.64514299e-03  3.61074863e-02 -1.53609929e-03\n",
      " -1.03964629e-02  1.38051442e-02 -9.83792059e-05 -3.78693006e-02\n",
      "  3.13858669e-03 -6.83305413e-02  2.26511365e-02 -2.09800482e-02\n",
      "  2.09655668e-02  1.17361591e-02  2.28334748e-02  7.38400313e-02\n",
      "  6.42501408e-02  1.13222266e-01  4.51402137e-02  2.36436552e-02\n",
      "  1.70658740e-02 -1.03921285e-02 -2.25789007e-02  2.43456751e-02\n",
      " -2.47628350e-02 -2.13906232e-02 -6.13937073e-02  2.66140256e-02\n",
      " -3.28543738e-02  2.13380470e-02 -5.54219183e-02  3.19559124e-04\n",
      "  3.61226925e-03  4.73070375e-03  6.45702123e-02 -1.96272160e-02\n",
      "  6.60439743e-02 -2.02911221e-02  5.35694672e-02  4.00751655e-02\n",
      "  1.09873760e-02 -1.45081132e-02 -1.05822113e-02  2.72827900e-02\n",
      "  2.03137376e-02  1.02155039e-02 -1.53331686e-02  5.46317840e-03\n",
      "  4.01520116e-02  1.10836009e-02 -1.12996407e-02 -9.69016663e-03\n",
      " -1.31397580e-02  3.22194225e-02 -2.75336678e-02  1.65145333e-02\n",
      " -4.92047314e-03 -2.31952575e-02 -1.42804831e-02 -8.55411942e-03\n",
      "  2.77917601e-03  9.58824197e-05 -6.18562084e-04  1.96975593e-03\n",
      " -6.32504898e-03 -1.52148096e-03 -6.46095276e-03  3.14085001e-03\n",
      " -1.19777972e-02  6.00814528e-03 -3.68201643e-03 -6.02856763e-03\n",
      " -2.92029418e-03  1.04490098e-04  3.47834356e-03 -2.01777185e-03\n",
      " -1.21301071e-02 -3.42118780e-02 -3.11376042e-02  1.30031473e-02\n",
      " -6.29590269e-03 -1.07918005e-03  1.09728480e-02 -4.28484890e-02\n",
      " -4.72092875e-02  4.32329678e-02 -2.46479829e-03 -7.51684905e-02\n",
      " -6.76076723e-02 -1.32022649e-02 -2.60661891e-02  1.04048613e-03\n",
      "  9.11005488e-04  6.86726138e-03 -4.19023047e-03  1.31187961e-02\n",
      " -9.09960614e-03 -1.44115360e-02 -1.99322116e-02  7.82271832e-03\n",
      " -4.46917706e-02 -4.63472077e-02  7.84214350e-03 -1.41410145e-02\n",
      " -2.77621414e-02 -8.52699199e-03 -8.99037013e-03  4.09732624e-03\n",
      "  1.65764297e-02  1.79638158e-02  8.83934049e-03 -5.35586468e-03\n",
      " -1.25522152e-02 -5.44409050e-03  3.23530337e-02  1.65056605e-03\n",
      "  1.19772109e-03 -1.00955491e-02  1.09770404e-02  1.55381628e-02\n",
      " -1.72963794e-02  4.25584445e-03 -1.66384617e-02 -7.37569524e-02\n",
      " -1.29640796e-02 -6.20314377e-02 -2.14473128e-02 -2.32851345e-02\n",
      "  2.95538910e-02 -2.46106680e-02  6.52945686e-02  2.88777091e-02\n",
      " -4.57747787e-02 -4.08257515e-02 -2.80067755e-02  4.41889788e-02\n",
      "  6.25486862e-03  1.48116033e-02  6.16918140e-02  5.21709765e-02\n",
      " -2.17788527e-02 -3.07975293e-02 -3.43818207e-03  1.10528873e-02\n",
      " -8.39679850e-02 -3.53321024e-02 -3.15485349e-02  3.02296846e-02\n",
      " -2.05500957e-02 -9.31566670e-02  1.80623668e-02 -9.15956775e-03\n",
      "  1.32778186e-03 -1.54441430e-02  2.03287974e-02 -1.11285743e-03\n",
      "  5.36569422e-02  2.65414608e-02 -8.88768814e-03 -5.13302620e-02\n",
      " -3.33887804e-03  2.58907918e-03  1.13504456e-02  2.50307800e-02\n",
      " -1.61750546e-02 -5.97553706e-02  3.13220610e-02 -2.70242718e-02\n",
      " -8.62842638e-02  1.58705416e-02  3.53649477e-02  2.97902163e-02\n",
      " -1.10644567e-03  1.23950495e-02  9.06210659e-02  4.46732413e-03\n",
      " -5.09748094e-02 -6.97070210e-02  1.83608690e-02 -2.21527738e-02\n",
      "  4.72204415e-02 -2.80974855e-02 -3.81344698e-04 -6.06113808e-02\n",
      " -3.43309973e-02 -7.56290573e-02  2.52721638e-02  5.05108625e-02\n",
      "  3.65074814e-02  5.77399174e-02 -5.23738296e-02  1.14330297e-01\n",
      "  5.78606868e-02 -1.56364280e-02  1.85113609e-02 -6.38917936e-02\n",
      "  1.12690971e-01  6.39797948e-02 -3.31698537e-02 -9.24647954e-03\n",
      "  2.05507030e-03 -2.11819553e-02 -3.53264821e-02 -7.27152085e-03\n",
      "  1.41657125e-02  1.73801856e-02  2.76694477e-02 -4.02019910e-02\n",
      "  3.38897679e-02 -2.61115092e-02  2.39341671e-02  5.59097516e-02\n",
      "  8.86660846e-03  2.40853147e-02  8.48176693e-02 -3.06730787e-02\n",
      "  3.15032018e-02  8.17345772e-02  8.42932736e-02 -1.58239784e-02\n",
      "  2.00488191e-03  2.63712587e-02  8.00181167e-02  1.73445031e-02\n",
      " -7.96602525e-03  6.69651226e-02  6.05313324e-02 -2.22650112e-02\n",
      "  4.25872449e-03 -4.77838537e-02 -7.87463030e-02 -6.51228536e-02\n",
      "  4.53580350e-02  4.23617555e-02 -8.57223643e-02 -8.11509371e-02\n",
      "  3.27599780e-02 -3.02190904e-02  5.24320127e-02  7.61496320e-03\n",
      " -6.22955522e-02 -6.67461031e-03  3.02824596e-02  6.74608953e-03\n",
      " -4.49813526e-03 -3.52570324e-02  1.03007946e-02  2.56683752e-02\n",
      "  1.69551865e-02  9.99343565e-02 -4.29836306e-03  1.49297779e-02\n",
      "  1.32360018e-02 -1.71222670e-02 -3.75734452e-02 -4.42328592e-02\n",
      "  3.05963657e-02  8.45386398e-03  3.87895603e-03  2.55477254e-02\n",
      " -6.08351218e-03 -5.75843296e-02  7.43766192e-02  5.20916905e-02\n",
      "  1.69353021e-02  6.60766885e-02  5.74685275e-02 -2.55183873e-02\n",
      " -5.00779545e-02  3.67772243e-02 -5.33876421e-02 -1.77844665e-02\n",
      "  4.07257877e-02  5.64429428e-02  7.49640668e-03  3.83803041e-02\n",
      "  1.57007185e-02  3.28922466e-02  2.86054962e-02  7.11646428e-02\n",
      "  4.43950371e-03  7.41032630e-02 -5.57232917e-02  1.67918169e-02\n",
      " -4.71326387e-02  1.75669460e-02  1.81821890e-02 -6.00086037e-02\n",
      "  1.08802944e-02  2.06839215e-03 -1.83806397e-02  7.28409646e-02\n",
      "  2.58075874e-02 -2.61264179e-02 -7.52590101e-03  1.05283432e-02\n",
      "  4.14693181e-02  1.55598905e-02 -2.16002822e-02 -5.93898517e-02\n",
      "  2.15462284e-02  5.23084858e-02  4.71902845e-02  2.16442919e-02\n",
      "  0.00000000e+00  0.00000000e+00  0.00000000e+00  0.00000000e+00\n",
      "  0.00000000e+00  0.00000000e+00  0.00000000e+00  0.00000000e+00\n",
      "  0.00000000e+00  0.00000000e+00  0.00000000e+00  0.00000000e+00\n",
      "  0.00000000e+00  0.00000000e+00  0.00000000e+00  0.00000000e+00\n",
      "  0.00000000e+00  0.00000000e+00  0.00000000e+00  0.00000000e+00\n",
      "  0.00000000e+00  0.00000000e+00  0.00000000e+00  0.00000000e+00\n",
      "  0.00000000e+00  0.00000000e+00  0.00000000e+00  0.00000000e+00\n",
      "  0.00000000e+00  0.00000000e+00  0.00000000e+00  0.00000000e+00\n",
      "  0.00000000e+00  0.00000000e+00  0.00000000e+00  0.00000000e+00\n",
      "  0.00000000e+00  0.00000000e+00  0.00000000e+00  0.00000000e+00\n",
      "  0.00000000e+00  0.00000000e+00  0.00000000e+00  0.00000000e+00\n",
      "  0.00000000e+00  0.00000000e+00  0.00000000e+00  0.00000000e+00\n",
      "  0.00000000e+00  0.00000000e+00  0.00000000e+00  0.00000000e+00\n",
      "  0.00000000e+00  0.00000000e+00  0.00000000e+00  0.00000000e+00\n",
      "  0.00000000e+00  0.00000000e+00  0.00000000e+00  0.00000000e+00\n",
      "  0.00000000e+00  0.00000000e+00  0.00000000e+00  0.00000000e+00\n",
      "  0.00000000e+00  0.00000000e+00  0.00000000e+00  0.00000000e+00\n",
      "  0.00000000e+00  0.00000000e+00  0.00000000e+00  0.00000000e+00\n",
      "  0.00000000e+00  0.00000000e+00  0.00000000e+00  0.00000000e+00]\n"
     ]
    }
   ],
   "source": [
    "eigen_values, eigen_vectors = list(), list()\n",
    "for lam, vec in eigen_sorted:\n",
    "    eigen_values.append(lam)\n",
    "    eigen_vectors.append(vec)\n",
    "eigen_values = np.array(eigen_values)\n",
    "eigen_vectors = np.array(eigen_vectors)\n",
    "\n",
    "print(eigen_values.shape, eigen_vectors.shape)\n",
    "print(eigen_values[100])\n",
    "print(eigen_vectors[100])"
   ]
  },
  {
   "cell_type": "code",
   "execution_count": 25,
   "metadata": {},
   "outputs": [
    {
     "data": {
      "text/plain": [
       "array([40.69537351, 29.11041321, 26.7824754 , 20.81403518, 18.09952427,\n",
       "       15.78714241, 13.82359513, 12.54272145, 11.0633458 , 10.08842803])"
      ]
     },
     "execution_count": 25,
     "metadata": {},
     "output_type": "execute_result"
    }
   ],
   "source": [
    "eigen_values[:10]"
   ]
  },
  {
   "cell_type": "code",
   "execution_count": 26,
   "metadata": {},
   "outputs": [
    {
     "name": "stdout",
     "output_type": "stream",
     "text": [
      "(784,)\n",
      "[0.05752403 0.0986724  0.13653017 0.16595138 0.19153555 0.21385111\n",
      " 0.23339115 0.25112063 0.26675897 0.28101924]\n"
     ]
    }
   ],
   "source": [
    "eigen_cumulative = np.cumsum(eigen_values) / eigen_values.sum()\n",
    "print(eigen_cumulative.shape)\n",
    "print(eigen_cumulative[:10])"
   ]
  },
  {
   "cell_type": "code",
   "execution_count": 34,
   "metadata": {},
   "outputs": [
    {
     "data": {
      "text/plain": [
       "0.9718373781481076"
      ]
     },
     "execution_count": 34,
     "metadata": {},
     "output_type": "execute_result"
    }
   ],
   "source": [
    "eigen_cumulative[400]"
   ]
  },
  {
   "cell_type": "code",
   "execution_count": 35,
   "metadata": {},
   "outputs": [
    {
     "data": {
      "image/png": "[encoded data removed]",
      "text/plain": [
       "<Figure size 432x288 with 1 Axes>"
      ]
     },
     "metadata": {
      "needs_background": "light"
     },
     "output_type": "display_data"
    }
   ],
   "source": [
    "plt.figure()\n",
    "plt.plot(eigen_cumulative)\n",
    "plt.show()"
   ]
  },
  {
   "cell_type": "code",
   "execution_count": 36,
   "metadata": {},
   "outputs": [],
   "source": [
    "def get_k(info=0.95):\n",
    "    k = 0\n",
    "    for i in range(eigen_cumulative.shape[0]):\n",
    "        k = i\n",
    "        if eigen_cumulative[i] >= info:\n",
    "            break\n",
    "    return k"
   ]
  },
  {
   "cell_type": "code",
   "execution_count": 38,
   "metadata": {},
   "outputs": [
    {
     "data": {
      "text/plain": [
       "319"
      ]
     },
     "execution_count": 38,
     "metadata": {},
     "output_type": "execute_result"
    }
   ],
   "source": [
    "get_k(0.95)"
   ]
  },
  {
   "cell_type": "code",
   "execution_count": 44,
   "metadata": {},
   "outputs": [],
   "source": [
    "def explain_variances(at=None):\n",
    "    if at is None:\n",
    "        at = int(eigen_cumulative.shape[0] / 2)\n",
    "        \n",
    "    explained = eigen_cumulative[at]\n",
    "    loss = (1 - explained)\n",
    "    \n",
    "#     print(\"--- At {} ---\".format(at))\n",
    "#     print(\"Variances Explained: \", explained * 100, '%')\n",
    "#     print(\"Loss: \", loss * 100, '%')\n",
    "    return explained, loss"
   ]
  },
  {
   "cell_type": "code",
   "execution_count": 41,
   "metadata": {},
   "outputs": [
    {
     "name": "stdout",
     "output_type": "stream",
     "text": [
      "--- At 319 ---\n",
      "Variances Explained:  95.00867038583051 %\n",
      "Loss:  4.9913296141694925 %\n"
     ]
    },
    {
     "data": {
      "text/plain": [
       "(0.9500867038583051, 0.04991329614169493)"
      ]
     },
     "execution_count": 41,
     "metadata": {},
     "output_type": "execute_result"
    }
   ],
   "source": [
    "explain_variances(319)"
   ]
  },
  {
   "cell_type": "code",
   "execution_count": 45,
   "metadata": {},
   "outputs": [
    {
     "data": {
      "image/png": "[encoded data removed]",
      "text/plain": [
       "<Figure size 432x288 with 1 Axes>"
      ]
     },
     "metadata": {
      "needs_background": "light"
     },
     "output_type": "display_data"
    }
   ],
   "source": [
    "explained =  [explain_variances(i)[0] for i in range(784)]\n",
    "loss = [explain_variances(i)[1] for i in range(784)]\n",
    "plt.figure()\n",
    "plt.plot(explained, 'r')\n",
    "plt.plot(loss, 'g')\n",
    "plt.show()"
   ]
  },
  {
   "cell_type": "code",
   "execution_count": 46,
   "metadata": {},
   "outputs": [
    {
     "data": {
      "image/png": "[encoded data removed]",
      "text/plain": [
       "<Figure size 432x288 with 1 Axes>"
      ]
     },
     "metadata": {
      "needs_background": "light"
     },
     "output_type": "display_data"
    }
   ],
   "source": [
    "plt.figure()\n",
    "plt.plot(eigen_values[:])\n",
    "plt.show()"
   ]
  },
  {
   "cell_type": "code",
   "execution_count": 47,
   "metadata": {},
   "outputs": [
    {
     "name": "stdout",
     "output_type": "stream",
     "text": [
      "334 784\n"
     ]
    }
   ],
   "source": [
    "# Select top k dimensions\n",
    "\n",
    "k = get_k(info=0.955)\n",
    "dim = eigen_values.shape[0]\n",
    "print(k, dim)"
   ]
  },
  {
   "cell_type": "code",
   "execution_count": 48,
   "metadata": {},
   "outputs": [],
   "source": [
    "top_k_components = []\n",
    "\n",
    "for i in range(k):\n",
    "    top_k_components.append(eigen_vectors[:, i].reshape(dim, 1))\n",
    "    \n",
    "mat_W = np.hstack(top_k_components)"
   ]
  },
  {
   "cell_type": "code",
   "execution_count": 49,
   "metadata": {},
   "outputs": [
    {
     "data": {
      "text/plain": [
       "(784,)"
      ]
     },
     "execution_count": 49,
     "metadata": {},
     "output_type": "execute_result"
    }
   ],
   "source": [
    "eigen_vectors[:,0].shape"
   ]
  },
  {
   "cell_type": "code",
   "execution_count": 50,
   "metadata": {},
   "outputs": [
    {
     "name": "stdout",
     "output_type": "stream",
     "text": [
      "(784, 334)\n",
      "(42000, 784)\n"
     ]
    }
   ],
   "source": [
    "print(mat_W.shape)\n",
    "print(X_std.shape)"
   ]
  },
  {
   "cell_type": "code",
   "execution_count": 51,
   "metadata": {},
   "outputs": [
    {
     "name": "stdout",
     "output_type": "stream",
     "text": [
      "(42000, 334)\n"
     ]
    }
   ],
   "source": [
    "y = X_std.dot(mat_W)\n",
    "print(y.shape)"
   ]
  },
  {
   "cell_type": "code",
   "execution_count": 52,
   "metadata": {},
   "outputs": [
    {
     "data": {
      "text/plain": [
       "array([-3.00950777e+00, -6.21237785e-01,  8.50666676e-01, -4.71071052e-01,\n",
       "       -1.81208594e+00,  9.18032166e-01, -3.19641725e-01,  1.64099096e+00,\n",
       "        1.58020371e-01,  2.43690339e+00,  4.48292418e-01,  2.56065236e-01,\n",
       "       -1.46619267e+00, -3.12057880e-01,  1.32343988e+00,  1.69692352e+00,\n",
       "       -2.69048401e-01, -8.85931514e-01, -4.60115414e-01,  3.54070545e-02,\n",
       "        8.52645338e-01,  5.90193235e-01, -2.53718968e-01, -6.51359845e-01,\n",
       "        4.88853167e-02, -1.20844991e-01, -3.24749775e-01, -5.98838325e-01,\n",
       "       -1.31982242e+00, -6.43758456e-01, -1.00358701e+00, -8.00556424e-01,\n",
       "       -2.79766203e-02,  6.97450101e-01,  3.66758609e-01, -1.78803848e+00,\n",
       "        9.33858404e-02,  5.06241617e-01,  7.78240610e-01,  9.91850581e-01,\n",
       "        3.28365580e-02,  4.95978754e-01, -5.04641078e-01, -4.57797532e-01,\n",
       "        1.27382026e+00,  1.00508988e+00,  2.25830152e+00,  8.13766833e-01,\n",
       "       -4.19008519e-01, -4.86700439e-01,  5.30036896e-01, -9.75347413e-01,\n",
       "        3.91774720e-01,  5.43492037e-01,  1.40662296e-01, -8.94064812e-01,\n",
       "       -1.37609105e+00,  4.73311498e-01,  8.75019669e-02, -1.02850539e+00,\n",
       "        1.21923747e+00, -3.45278832e-01,  3.19996230e-01, -6.95477985e-01,\n",
       "       -4.31989116e-01, -1.37895077e+00, -1.30133665e+00, -1.32024305e+00,\n",
       "        5.14037693e-01, -6.52071904e-01,  1.57800869e+00, -1.28556476e+00,\n",
       "        4.09939460e-02, -1.75861597e+00, -3.34983437e-02, -5.59010464e-01,\n",
       "        4.97570292e-01,  1.87427580e-01,  9.52183272e-02, -4.52820224e-01,\n",
       "        8.65195597e-01,  1.07639511e+00, -5.92618487e-01,  7.19225975e-01,\n",
       "        2.25039118e-01,  3.90693870e-01,  1.45040656e-01, -1.54588716e-01,\n",
       "        2.79635838e-01,  1.15999109e+00,  2.77732430e-02, -1.43760428e-02,\n",
       "       -4.15346436e-01,  2.99697680e-01, -3.58042918e-01, -8.56678863e-01,\n",
       "       -2.77003159e-01, -1.35823531e+00, -4.06243802e-01,  1.86763628e-01,\n",
       "       -4.62911579e-02, -8.51302895e-01,  6.15946771e-01, -2.17032674e-01,\n",
       "       -1.01673173e+00,  2.86164725e-02, -3.51309476e-01, -9.35671858e-02,\n",
       "       -5.98464979e-01,  5.28301116e-02, -1.53219651e+00, -5.53216855e-01,\n",
       "        8.35407776e-01,  1.16691167e+00, -1.06514919e+00,  3.34200586e-02,\n",
       "        3.07641724e-01, -6.22657614e-01, -4.50474796e-01, -2.14875276e-01,\n",
       "        1.49929793e+00,  9.76131823e-01,  4.74255891e-01,  2.25014976e-01,\n",
       "       -9.15527905e-02,  1.44869082e-01,  7.17575781e-02, -8.26661894e-01,\n",
       "       -1.67415246e+00,  1.32523893e-01,  3.54793560e-02, -2.53696385e-01,\n",
       "       -4.10377641e-01, -6.69556482e-01,  1.70204266e+00, -6.48075843e-01,\n",
       "        1.39950385e+00, -7.76212322e-02, -6.84923223e-01,  3.79704229e-01,\n",
       "        8.33574463e-01,  8.72873039e-02, -3.85929798e-01,  1.09355344e-01,\n",
       "        8.70852007e-01,  5.64945389e-01,  2.86920374e-01,  5.40248016e-01,\n",
       "       -2.02157184e-01,  5.33019343e-01, -9.05859926e-01,  5.52827737e-01,\n",
       "       -6.41091181e-02,  6.48585207e-01,  4.61621176e-01, -6.01051525e-01,\n",
       "        2.39512043e-01,  6.69117892e-02,  8.82657959e-02,  3.86060136e-01,\n",
       "        7.66969654e-01,  2.50181476e-02,  5.13363515e-02, -1.16310614e-01,\n",
       "        1.37470846e-01, -1.97812820e-01,  2.42297365e+00, -7.17303956e-01,\n",
       "       -3.40862879e-01,  2.27808823e-01, -2.60721685e-02,  4.78497089e-04,\n",
       "       -3.59524373e-01,  5.84297097e-01,  5.31249928e-02, -4.35456812e-02,\n",
       "       -6.06844635e-01,  4.63213761e-01, -3.51276694e-01,  1.69139467e-01,\n",
       "       -2.43861855e-01, -4.58285618e-01, -1.55143016e-01,  1.19352959e-01,\n",
       "        4.38293864e-01, -6.18462927e-01, -3.58372033e-01,  6.55122769e-01,\n",
       "        3.20283902e-01,  7.22720699e-01, -3.02088057e-01, -1.94941071e-01,\n",
       "       -5.80788622e-01,  9.33077956e-01, -4.49704791e-01, -1.38594116e+00,\n",
       "        2.43797875e-01, -2.22335840e-01, -1.51131366e-01, -1.27879958e+00,\n",
       "        1.57012747e-01,  1.16787727e+00,  1.41194573e-01,  2.72526406e-01,\n",
       "        4.19255184e-01,  6.58096847e-01,  3.94663546e-01,  1.18644403e+00,\n",
       "        1.18606382e+00,  4.47166701e-01,  1.56556951e+00, -3.57647175e-01,\n",
       "       -2.18192599e-01,  8.19640743e-01,  6.52883679e-01,  4.76204355e-01,\n",
       "        1.06659549e+00, -1.29065787e-02,  4.13522218e-01,  3.11697393e-01,\n",
       "        2.93142050e-01,  8.78799402e-01, -7.39398587e-01, -4.95935479e-01,\n",
       "        4.46603256e-01, -6.60027416e-01,  7.00978870e-01, -9.81002634e-02,\n",
       "        1.36119318e+00, -7.25455460e-02, -5.14613003e-01, -5.42609533e-01,\n",
       "        5.11071219e-01, -2.79872363e-01,  7.95699588e-03, -2.99838872e-02,\n",
       "        1.70158253e+00,  5.99236472e-02, -1.54629710e+00, -4.58018243e-01,\n",
       "       -6.46498052e-01,  2.49118516e-01,  1.36017895e-01,  7.19165878e-01,\n",
       "       -4.31302608e-01, -5.18251761e-02,  1.02960860e-01, -2.03592151e-02,\n",
       "       -9.51837344e-02, -3.81040805e-01, -5.89494583e-01, -9.94422147e-01,\n",
       "        5.40706331e-01,  4.84164821e-01,  3.13182266e-01,  2.62875148e-01,\n",
       "       -2.47327755e-01,  4.66238301e-01,  1.20552312e+00, -7.93309824e-01,\n",
       "        6.20808102e-01, -1.34724500e+00, -2.92527575e-02, -9.15693597e-01,\n",
       "       -8.78984329e-01,  2.79675102e-03,  6.73223360e-02, -2.27514825e+00,\n",
       "       -8.26009394e-01, -7.58142733e-01,  1.32224242e-01, -8.49185610e-01,\n",
       "       -6.77727715e-01,  4.13270354e-01,  7.53603892e-01,  1.23934100e+00,\n",
       "       -9.69834143e-01,  2.23384191e-01, -5.13417512e-01,  5.56656160e-01,\n",
       "       -9.50240473e-01, -7.53626641e-01, -9.53604129e-01,  7.23300023e-01,\n",
       "        4.46856100e-02, -1.19244127e-01, -6.02833557e-01,  7.46704418e-01,\n",
       "        1.69345470e+00,  1.64043928e+00, -2.50526020e+00,  1.82021359e+00,\n",
       "       -6.69665468e-01, -5.71591919e-01, -7.93094570e-01,  5.09508665e-01,\n",
       "        5.36038727e-01, -8.55711866e-01, -7.62954276e-01, -3.73503547e-01,\n",
       "       -1.42405996e+00, -4.18096984e-01, -4.20707087e-01, -7.48741108e-03,\n",
       "       -5.93104412e-01,  6.83105185e-01,  9.08714190e-01, -6.94211552e-01,\n",
       "       -1.14668406e+00, -2.06781545e-01,  1.10972337e+00, -1.56192840e-01,\n",
       "       -8.19125308e-01, -8.03596014e-01, -2.27134882e-01,  5.02833262e-01,\n",
       "        3.99444271e-01, -1.19146468e+00,  3.29565388e-01, -2.12314957e-01,\n",
       "        2.62118297e-01,  4.75541264e-01,  2.56799733e-01,  2.74680460e-01,\n",
       "        7.45828219e-01,  1.61458266e-01,  1.23007851e+00,  1.25674792e+00,\n",
       "       -7.31370973e-01, -4.46677655e-01, -6.31905071e-01, -2.62539366e-01,\n",
       "       -7.38374906e-02,  2.98186312e-01])"
      ]
     },
     "execution_count": 52,
     "metadata": {},
     "output_type": "execute_result"
    }
   ],
   "source": [
    "y[0]"
   ]
  },
  {
   "cell_type": "markdown",
   "metadata": {},
   "source": [
    "# SKLearn"
   ]
  },
  {
   "cell_type": "code",
   "execution_count": 53,
   "metadata": {},
   "outputs": [],
   "source": [
    "from sklearn.decomposition import PCA\n",
    "import datetime"
   ]
  },
  {
   "cell_type": "code",
   "execution_count": 62,
   "metadata": {},
   "outputs": [
    {
     "data": {
      "text/plain": [
       "(0.1365301668653084, 0.8634698331346916)"
      ]
     },
     "execution_count": 62,
     "metadata": {},
     "output_type": "execute_result"
    }
   ],
   "source": [
    "explain_variances(2)"
   ]
  },
  {
   "cell_type": "code",
   "execution_count": 59,
   "metadata": {},
   "outputs": [
    {
     "name": "stdout",
     "output_type": "stream",
     "text": [
      "Time Taken:  0:00:02.126371\n"
     ]
    }
   ],
   "source": [
    "t0 = datetime.datetime.now()\n",
    "pca = PCA(n_components=2)\n",
    "X_sk = pca.fit_transform(X_std)\n",
    "print(\"Time Taken: \", datetime.datetime.now() - t0)"
   ]
  },
  {
   "cell_type": "code",
   "execution_count": 56,
   "metadata": {
    "scrolled": true
   },
   "outputs": [
    {
     "data": {
      "text/plain": [
       "(339,)"
      ]
     },
     "execution_count": 56,
     "metadata": {},
     "output_type": "execute_result"
    }
   ],
   "source": [
    "X_sk[0].shape"
   ]
  },
  {
   "cell_type": "code",
   "execution_count": 57,
   "metadata": {},
   "outputs": [],
   "source": [
    "var = pca.explained_variance_ratio_\n",
    "cumulative  = np.cumsum(var) / np.sum(var)"
   ]
  },
  {
   "cell_type": "code",
   "execution_count": 58,
   "metadata": {},
   "outputs": [
    {
     "data": {
      "image/png": "[encoded data removed]",
      "text/plain": [
       "<Figure size 432x288 with 1 Axes>"
      ]
     },
     "metadata": {
      "needs_background": "light"
     },
     "output_type": "display_data"
    }
   ],
   "source": [
    "plt.figure()\n",
    "plt.plot(cumulative)\n",
    "plt.show()"
   ]
  },
  {
   "cell_type": "code",
   "execution_count": 60,
   "metadata": {},
   "outputs": [
    {
     "data": {
      "image/png": "[encoded data removed]",
      "text/plain": [
       "<Figure size 432x288 with 1 Axes>"
      ]
     },
     "metadata": {
      "needs_background": "light"
     },
     "output_type": "display_data"
    }
   ],
   "source": [
    "colors = ['red', 'green', 'blue', 'yellow', 'pink', 'black', 'cyan', 'purple', 'gray', 'magenta']\n",
    "\n",
    "plt.figure()\n",
    "for i in range(2000):\n",
    "    plt.scatter(X_sk[i,0], X_sk[i,1], color=colors[labels[i]])\n",
    "plt.show()"
   ]
  },
  {
   "cell_type": "code",
   "execution_count": 61,
   "metadata": {},
   "outputs": [
    {
     "data": {
      "image/png": "[encoded data removed]",
      "text/plain": [
       "<Figure size 432x288 with 1 Axes>"
      ]
     },
     "metadata": {
      "needs_background": "light"
     },
     "output_type": "display_data"
    }
   ],
   "source": [
    "colors = ['red', 'green', 'blue', 'yellow', 'pink', 'black', 'cyan', 'purple', 'gray', 'magenta']\n",
    "\n",
    "plt.figure()\n",
    "for i in range(10000):\n",
    "    plt.scatter(X_sk[i,0], X_sk[i,1], color=colors[labels[i]])\n",
    "plt.show()"
   ]
  },
  {
   "cell_type": "code",
   "execution_count": null,
   "metadata": {},
   "outputs": [],
   "source": []
  }
 ],
 "metadata": {
  "kernelspec": {
   "display_name": "Python 3",
   "language": "python",
   "name": "python3"
  },
  "language_info": {
   "codemirror_mode": {
    "name": "ipython",
    "version": 3
   },
   "file_extension": ".py",
   "mimetype": "text/x-python",
   "name": "python",
   "nbconvert_exporter": "python",
   "pygments_lexer": "ipython3",
   "version": "3.7.0"
  }
 },
 "nbformat": 4,
 "nbformat_minor": 2
}
